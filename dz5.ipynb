{
  "nbformat": 4,
  "nbformat_minor": 0,
  "metadata": {
    "colab": {
      "provenance": [],
      "include_colab_link": true
    },
    "kernelspec": {
      "name": "python3",
      "display_name": "Python 3"
    },
    "language_info": {
      "name": "python"
    }
  },
  "cells": [
    {
      "cell_type": "markdown",
      "metadata": {
        "id": "view-in-github",
        "colab_type": "text"
      },
      "source": [
        "<a href=\"https://colab.research.google.com/github/OVP2023/PYbasicForAnalize/blob/main/dz5.ipynb\" target=\"_parent\"><img src=\"https://colab.research.google.com/assets/colab-badge.svg\" alt=\"Open In Colab\"/></a>"
      ]
    },
    {
      "cell_type": "markdown",
      "source": [
        "Задание 1 Печатные газеты использовали свой формат дат для каждого выпуска. Для каждой газеты из списка напишите формат указанной даты для перевода в объект datetime:\n",
        "The Moscow Times — Wednesday, October 2, 2002\n",
        "The Guardian — Friday, 11.10.13\n",
        "Daily News — Thursday, 18 August 1977"
      ],
      "metadata": {
        "id": "MNujCuWR6EFE"
      }
    },
    {
      "cell_type": "code",
      "source": [
        "from datetime import datetime\n",
        "#The Moscow Times\n",
        "datetime.strptime('Wednesday, October 2, 2002','%A, %B %d, %Y')"
      ],
      "metadata": {
        "colab": {
          "base_uri": "https://localhost:8080/"
        },
        "id": "-edVUz0m6IS6",
        "outputId": "771c943e-d310-402b-b7e4-94dbba16b3dc"
      },
      "execution_count": null,
      "outputs": [
        {
          "output_type": "execute_result",
          "data": {
            "text/plain": [
              "datetime.datetime(2002, 10, 2, 0, 0)"
            ]
          },
          "metadata": {},
          "execution_count": 6
        }
      ]
    },
    {
      "cell_type": "code",
      "source": [
        "# The Guardian\n",
        "datetime.strptime('Friday, 11.10.13','%A, %d.%m.%y')"
      ],
      "metadata": {
        "colab": {
          "base_uri": "https://localhost:8080/"
        },
        "id": "TXpIfx0W_4DL",
        "outputId": "27444b7e-d31d-4633-80b8-2dd761ac9993"
      },
      "execution_count": null,
      "outputs": [
        {
          "output_type": "execute_result",
          "data": {
            "text/plain": [
              "datetime.datetime(2013, 10, 11, 0, 0)"
            ]
          },
          "metadata": {},
          "execution_count": 7
        }
      ]
    },
    {
      "cell_type": "code",
      "source": [
        "#Daily News\n",
        "datetime.strptime('Thursday, 18 August 1977','%A, %d %B %Y')"
      ],
      "metadata": {
        "colab": {
          "base_uri": "https://localhost:8080/"
        },
        "id": "1Q4_nRDXAn01",
        "outputId": "457ea078-4443-4bf7-f43d-f25e36d697e2"
      },
      "execution_count": null,
      "outputs": [
        {
          "output_type": "execute_result",
          "data": {
            "text/plain": [
              "datetime.datetime(1977, 8, 18, 0, 0)"
            ]
          },
          "metadata": {},
          "execution_count": 8
        }
      ]
    },
    {
      "cell_type": "markdown",
      "source": [
        "Задание 2 Дан поток дат в формате YYYY-MM-DD, в которых встречаются некорректные значения:\n",
        "stream = [‘2018-04-02’, ‘2018-02-29’, ‘2018-19-02’]\n",
        "\n",
        "Напишите функцию, которая проверяет эти даты на корректность. То есть для каждой даты возвращает True — дата корректна или False — некорректная."
      ],
      "metadata": {
        "id": "R7XPBMih6KcO"
      }
    },
    {
      "cell_type": "code",
      "source": [
        "from datetime import datetime\n",
        "stream = ['2018-04-02', '2018-02-29', '2018-19-02']\n",
        "def date_cor(str_data):\n",
        "    try:\n",
        "        datetime.strptime(str_data,'%Y-%m-%d')\n",
        "        return True\n",
        "    except:\n",
        "        return False\n",
        "\n",
        "for str_ in stream:\n",
        "    print(str_,date_cor(str_))"
      ],
      "metadata": {
        "colab": {
          "base_uri": "https://localhost:8080/"
        },
        "id": "3k1AiCVN6OjC",
        "outputId": "1f7db827-bdca-4afd-aa50-3494e8f283f8"
      },
      "execution_count": null,
      "outputs": [
        {
          "output_type": "stream",
          "name": "stdout",
          "text": [
            "2018-04-02 True\n",
            "2018-02-29 False\n",
            "2018-19-02 False\n"
          ]
        }
      ]
    },
    {
      "cell_type": "markdown",
      "source": [
        "Задание 3 Напишите функцию date_range, которая возвращает список дат за период от start_date до end_date. Даты должны вводиться в формате YYYY-MM-DD. В случае неверного формата или при start_date > end_date должен возвращаться пустой список."
      ],
      "metadata": {
        "id": "TpLHWi_Q6PkE"
      }
    },
    {
      "cell_type": "code",
      "source": [
        "from datetime import datetime, timedelta\n",
        "def date_range(start_date, end_date):\n",
        "    list_=[]\n",
        "    try:\n",
        "        sd_=datetime.strptime(start_date,'%Y-%m-%d')\n",
        "        ed_=datetime.strptime(end_date,'%Y-%m-%d')\n",
        "        cd_=sd_\n",
        "        while cd_ <= ed_:\n",
        "            #print (cd_.year,'-',cd_.month,'-',cd_.day)\n",
        "            list_.append(cd_.strftime(\"%Y-%m-%d\"))\n",
        "            cd_=cd_+timedelta(days=1)\n",
        "        return list_\n",
        "    except:\n",
        "        return []\n",
        "print(date_range('2018-04-02','2018-04-14'))"
      ],
      "metadata": {
        "colab": {
          "base_uri": "https://localhost:8080/"
        },
        "id": "QCyNynvMNwZg",
        "outputId": "79d8c0c4-56e8-4a3d-e41d-16e3647e4a2d"
      },
      "execution_count": null,
      "outputs": [
        {
          "output_type": "stream",
          "name": "stdout",
          "text": [
            "['2018-04-02', '2018-04-03', '2018-04-04', '2018-04-05', '2018-04-06', '2018-04-07', '2018-04-08', '2018-04-09', '2018-04-10', '2018-04-11', '2018-04-12', '2018-04-13', '2018-04-14']\n"
          ]
        }
      ]
    }
  ]
}