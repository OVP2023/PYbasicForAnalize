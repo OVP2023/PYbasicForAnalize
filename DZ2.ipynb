{
  "nbformat": 4,
  "nbformat_minor": 0,
  "metadata": {
    "colab": {
      "provenance": [],
      "include_colab_link": true
    },
    "kernelspec": {
      "name": "python3",
      "display_name": "Python 3"
    },
    "language_info": {
      "name": "python"
    }
  },
  "cells": [
    {
      "cell_type": "markdown",
      "metadata": {
        "id": "view-in-github",
        "colab_type": "text"
      },
      "source": [
        "<a href=\"https://colab.research.google.com/github/OVP2023/PYbasicForAnalize/blob/main/DZ2.ipynb\" target=\"_parent\"><img src=\"https://colab.research.google.com/assets/colab-badge.svg\" alt=\"Open In Colab\"/></a>"
      ]
    },
    {
      "cell_type": "code",
      "execution_count": null,
      "metadata": {
        "id": "bzgEc5vBZXLs"
      },
      "outputs": [],
      "source": []
    },
    {
      "cell_type": "markdown",
      "source": [
        "Задание 1  Дана переменная, в которой хранится слово из латинских букв. Напишите код, который выводит на экран:\n",
        "\n",
        "    среднюю букву, если число букв в слове нечетное;\n",
        "    две средних буквы, если число букв четное"
      ],
      "metadata": {
        "id": "8LP42HW-gT_L"
      }
    },
    {
      "cell_type": "code",
      "source": [
        "word=input('введите слово: ')\n",
        "if len(word)%2 == 0:\n",
        "    print(word[((len(word)//2)-1):((len(word)//2)+1)])\n",
        "else:\n",
        "    print(word[(len(word)//2)])"
      ],
      "metadata": {
        "colab": {
          "base_uri": "https://localhost:8080/"
        },
        "id": "YLKfICYUgVeM",
        "outputId": "7560994d-de45-4e31-a529-8bf56d43156a"
      },
      "execution_count": null,
      "outputs": [
        {
          "output_type": "stream",
          "name": "stdout",
          "text": [
            "введите слововася\n",
            "ас\n"
          ]
        }
      ]
    },
    {
      "cell_type": "markdown",
      "source": [
        "Задание 2  Напишите программу, которая последовательно запрашивает у пользователя числа (по одному за раз) и после первого нуля выводит сумму всех ранее введенных чисел."
      ],
      "metadata": {
        "id": "1mY4zL7GlOQl"
      }
    },
    {
      "cell_type": "code",
      "source": [
        "sum=0\n",
        "x=''\n",
        "while x!=0:\n",
        "    x=int(input('Введите число: '))\n",
        "    sum=sum+x\n",
        "print('Результат: ',sum)\n"
      ],
      "metadata": {
        "colab": {
          "base_uri": "https://localhost:8080/"
        },
        "id": "YY3wyPwHlc0L",
        "outputId": "de801f25-6fe7-41ca-bda9-21fa0accf058"
      },
      "execution_count": null,
      "outputs": [
        {
          "output_type": "stream",
          "name": "stdout",
          "text": [
            "Введите число: 1\n",
            "Введите число: 2\n",
            "Введите число: 3\n",
            "Введите число: 0\n",
            "Результат:  6\n"
          ]
        }
      ]
    },
    {
      "cell_type": "markdown",
      "source": [
        "Задание 3  Мы делаем MVP dating-сервиса, и у нас есть список парней и девушек.\n",
        "Выдвигаем гипотезу: лучшие рекомендации мы получим, если просто отсортируем имена по алфавиту и познакомим людей с одинаковыми индексами после сортировки! Но мы не будем никого знакомить, если кто-то может остаться без пары"
      ],
      "metadata": {
        "id": "d8K7D-40Awwu"
      }
    },
    {
      "cell_type": "code",
      "source": [
        "boys = ['Peter', 'Alex', 'John', 'Arthur', 'Richard']\n",
        "girls = ['Kate', 'Liza', 'Kira', 'Emma', 'Trisha']\n",
        "\n",
        "if len(boys) == len(girls):\n",
        "     print('Идеальные пары: ')\n",
        "     for boy, girl in zip(sorted(boys), sorted(girls)):\n",
        "          print(boy,'и',girl)\n",
        "else:\n",
        "    print('Кто-то может остаться без пары!')\n"
      ],
      "metadata": {
        "colab": {
          "base_uri": "https://localhost:8080/"
        },
        "id": "SQR23HGhA27O",
        "outputId": "40301654-1b21-4b0e-db96-935dd606591e"
      },
      "execution_count": null,
      "outputs": [
        {
          "output_type": "stream",
          "name": "stdout",
          "text": [
            "Идеальные пары: \n",
            "Alex и Emma\n",
            "Arthur и Kate\n",
            "John и Kira\n",
            "Peter и Liza\n",
            "Richard и Trisha\n"
          ]
        }
      ]
    },
    {
      "cell_type": "markdown",
      "source": [
        " Задание 4 У нас есть список, содержащий информацию о среднедневной температуре в Фаренгейтах за произвольный период по странам (структура данных в примере). Необходимо написать код, который рассчитает среднюю температуру за период в Цельсиях(!) для каждой страны."
      ],
      "metadata": {
        "id": "ajDwha76Fuzc"
      }
    },
    {
      "cell_type": "code",
      "source": [
        "countries_temperature = [\n",
        "    ['Таиланд', [75.2, 77, 78.8, 73.4, 68, 75.2, 77]],\n",
        "    ['Германия', [57.2, 55.4, 59, 59, 53.6]],\n",
        "    ['Россия', [35.6, 37.4, 39.2, 41, 42.8, 39.2, 35.6]],\n",
        "    ['Польша', [50, 50, 53.6, 57.2, 55.4, 55.4]]\n",
        "]\n",
        "print('Средняя температура в странах:')\n",
        "for element in countries_temperature:\n",
        "     sum=0\n",
        "     n=0\n",
        "     for el in element[1]:\n",
        "         sum=sum+(el-32)*5/9\n",
        "         n=n+1\n",
        "     print (element[0],'-',round(sum/n,1),'С')\n",
        "\n",
        "\n",
        "\n"
      ],
      "metadata": {
        "colab": {
          "base_uri": "https://localhost:8080/"
        },
        "id": "sjaSa0ClF_SG",
        "outputId": "ff94f60e-e39e-482d-8eea-af164e845321"
      },
      "execution_count": null,
      "outputs": [
        {
          "output_type": "stream",
          "name": "stdout",
          "text": [
            "Средняя температура в странах:\n",
            "Таиланд - 23.9 С\n",
            "Германия - 13.8 С\n",
            "Россия - 3.7 С\n",
            "Польша - 12.0 С\n"
          ]
        }
      ]
    }
  ]
}