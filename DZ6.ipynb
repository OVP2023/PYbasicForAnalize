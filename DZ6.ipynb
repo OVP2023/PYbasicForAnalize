{
  "nbformat": 4,
  "nbformat_minor": 0,
  "metadata": {
    "colab": {
      "provenance": [],
      "include_colab_link": true
    },
    "kernelspec": {
      "name": "python3",
      "display_name": "Python 3"
    },
    "language_info": {
      "name": "python"
    }
  },
  "cells": [
    {
      "cell_type": "markdown",
      "metadata": {
        "id": "view-in-github",
        "colab_type": "text"
      },
      "source": [
        "<a href=\"https://colab.research.google.com/github/OVP2023/PYbasicForAnalize/blob/main/DZ6.ipynb\" target=\"_parent\"><img src=\"https://colab.research.google.com/assets/colab-badge.svg\" alt=\"Open In Colab\"/></a>"
      ]
    },
    {
      "cell_type": "markdown",
      "source": [
        "Задание 1\n",
        "Напишите функцию, которая возвращает название валюты (поле ‘Name’) с максимальным значением курса с помощью сервиса www.cbr-xml-daily.ru...ly_json.js"
      ],
      "metadata": {
        "id": "i-dLmAQBjYEQ"
      }
    },
    {
      "cell_type": "code",
      "source": [
        "import requests\n",
        "def Fvalute():\n",
        "    r=requests.get('https://www.cbr-xml-daily.ru/daily_json.js')\n",
        "    #print(r.json()['Valute'])\n",
        "    list_=[]\n",
        "    dic_={}\n",
        "    max_name=''\n",
        "    max_value=0\n",
        "\n",
        "    for elem in r.json()['Valute']:\n",
        "        if (r.json()['Valute'][elem]['CharCode']=='USD'):\n",
        "            print(r.json()['Valute'][elem])\n",
        "    for elem in r.json()['Valute']:\n",
        "        #str_=r.json()['Valute'][elem]['Name']+' '+str(r.json()['Valute'][elem]['Value'])\n",
        "        #list_.append(str_)\n",
        "        #dic_[r.json()['Valute'][elem]['Name']]=r.json()['Valute'][elem]['Value']\n",
        "        if r.json()['Valute'][elem]['Value']> max_value:\n",
        "             max_value = r.json()['Valute'][elem]['Value']\n",
        "             max_name = r.json()['Valute'][elem]['Name']\n",
        "    dic_[max_name]=max_value\n",
        "\n",
        "    return dic_\n",
        "\n",
        "print(Fvalute())"
      ],
      "metadata": {
        "colab": {
          "base_uri": "https://localhost:8080/"
        },
        "id": "nGCQLrLcjepp",
        "outputId": "622b5492-65f5-4e83-f723-dd64b9f14d50"
      },
      "execution_count": 6,
      "outputs": [
        {
          "output_type": "stream",
          "name": "stdout",
          "text": [
            "{'ID': 'R01235', 'NumCode': '840', 'CharCode': 'USD', 'Nominal': 1, 'Name': 'Доллар США', 'Value': 92.7519, 'Previous': 92.4387}\n",
            "{'СДР (специальные права заимствования)': 123.0039}\n"
          ]
        }
      ]
    },
    {
      "cell_type": "markdown",
      "source": [
        "Задание 2\n",
        "Добавьте в класс Rate параметр diff (со значениями True или False), который в случае значения True в методах курсов валют (eur, usd итд) будет возвращать не курс валюты, а изменение по сравнению в прошлым значением. Считайте, self.diff будет принимать значение True только при возврате значения курса. При отображении всей информации о валюте он не используется."
      ],
      "metadata": {
        "id": "Zcxogfp_jgcq"
      }
    },
    {
      "cell_type": "code",
      "source": [
        "import requests\n",
        "\n",
        "class Rate:\n",
        "    def __init__(self,format_='value',diff_=False):\n",
        "        self.format = format_\n",
        "        self.diff = diff_\n",
        "\n",
        "    def exchange_rates(self): #Возвращает ответ с сервиса о валютах (часть из json)\n",
        "        self.r=requests.get('https://www.cbr-xml-daily.ru/daily_json.js')\n",
        "        return self.r.json()['Valute']\n",
        "\n",
        "    def make_format(self,currency): #Возвращает информацию о валюте в двух вариантах 1) Rate('full').make_format('USD') 2) Rate('value').make_format('USD')\n",
        "\n",
        "        response = self.exchange_rates()\n",
        "\n",
        "        if currency in response:\n",
        "            if self.format == 'full':\n",
        "                return response[currency]\n",
        "            if self.format == 'value':\n",
        "                if self.diff == True:\n",
        "                    return (response[currency]['Value']-response[currency]['Previous'])\n",
        "                else:\n",
        "                    return response[currency]['Value']\n",
        "        return 'Error'\n",
        "\n",
        "    def eur(self):\n",
        "        \"\"\"Возвращает курс евро на сегодня в формате self.format\"\"\"\n",
        "        return self.make_format('EUR')\n",
        "\n",
        "    def usd(self):\n",
        "        \"\"\"Возвращает курс доллара на сегодня в формате self.format\"\"\"\n",
        "        return self.make_format('USD')\n",
        "\n",
        "    def brl(self):\n",
        "        \"\"\"Возвращает курс бразильского реала на сегодня в формате self.format\"\"\"\n",
        "        return self.make_format('BRL')\n",
        "\n",
        "\n",
        "ex = Rate('full').make_format('USD')\n",
        "print(ex)\n",
        "ex=Rate('value').make_format('USD')\n",
        "print(ex)\n",
        "ex=Rate('value',True).make_format('USD')\n",
        "print(ex)\n",
        "\n"
      ],
      "metadata": {
        "colab": {
          "base_uri": "https://localhost:8080/"
        },
        "id": "ZFJEbbZUjpeK",
        "outputId": "a0aaa6c4-6fe1-47ca-aa94-f7e210a90741"
      },
      "execution_count": null,
      "outputs": [
        {
          "output_type": "stream",
          "name": "stdout",
          "text": [
            "{'ID': 'R01235', 'NumCode': '840', 'CharCode': 'USD', 'Nominal': 1, 'Name': 'Доллар США', 'Value': 91.2057, 'Previous': 91.0758}\n",
            "91.2057\n",
            "0.12989999999999213\n"
          ]
        }
      ]
    },
    {
      "cell_type": "markdown",
      "source": [
        "Задание 3\n",
        "Напишите класс Designer, который учитывает количество международных премий. Подсказки в коде занятия (“Ноутбук к лекциям «Понятие класса» + презентация”, zip-файл “Используемый ноутбук к лекциям «Понятие класса»).\n",
        "\n",
        "Комментарий по классу Designer такой:\n",
        "Напишите класс Designer, который учитывает количество международных премий для дизайнеров (из презентации: “Повышение на 1 грейд за каждые 7 баллов. Получение международной премии – это +2 балла”). Считайте, что при выходе на работу сотрудник уже имеет две премии и их количество не меняется со стажем (конечно если хотите это можно вручную менять).\n",
        "\n",
        "Класс Designer пишется по аналогии с классом Developer из материалов занятия."
      ],
      "metadata": {
        "id": "WmC5oX2qjqBb"
      }
    },
    {
      "cell_type": "code",
      "source": [
        "class Employee:\n",
        "    def __init__(self, name, seniority):\n",
        "        self.name = name\n",
        "        self.seniority = seniority\n",
        "        self.grade = 1\n",
        "\n",
        "    def grade_up(self):      #Повышает уровень дизайнера на 1\n",
        "        self.grade += 1\n",
        "\n",
        "    def publish_grade(self): #Публикация результатов аккредитации дизайнера\n",
        "        print('дизайнер ',self.name, ',уровень ',self.grade,', балов ',self.seniority)\n",
        "\n",
        "    def check_if_it_is_time_for_upgrade(self):\n",
        "        pass\n",
        "\n",
        "class Designer(Employee):\n",
        "    def __init__(self, name, seniority=4): #при выходе на работу сотрудник уже имеет две премии.Получение международной премии – это +2 балла.\n",
        "        super().__init__(name, seniority)\n",
        "\n",
        "    def check_if_it_is_time_for_upgrade(self):\n",
        "        # на каждой аккредитации увеличиваем количество балов дизайнера на 1. Cчитаем, что все дизайнеры проходят аккредитацию\n",
        "        self.seniority += 1\n",
        "\n",
        "        # условие повышения сотрудника: Повышение на 1 грейд за каждые 7 баллов\n",
        "        if self.seniority % 7 == 0:\n",
        "            self.grade_up()\n",
        "\n",
        "        # публикация результатов\n",
        "        return self.publish_grade()\n",
        "\n",
        "\n",
        "# дизайнер Александр только что пришел в компанию, но у него уже две есть международные премии)\n",
        "# у дизайнера Виктора три премии и 6 балов\n",
        "alex = Designer('Александр')\n",
        "victor = Designer('Виктор',6)\n",
        "for i in range(1,10):\n",
        "    print('Аккредитация №',i)\n",
        "    alex.check_if_it_is_time_for_upgrade()\n",
        "    victor.check_if_it_is_time_for_upgrade()\n",
        "    print()\n"
      ],
      "metadata": {
        "colab": {
          "base_uri": "https://localhost:8080/"
        },
        "id": "t1O-bLbAg4VT",
        "outputId": "25bae316-d4bd-4bd1-c89e-1522468d9d10"
      },
      "execution_count": null,
      "outputs": [
        {
          "output_type": "stream",
          "name": "stdout",
          "text": [
            "Аккредитация № 1\n",
            "дизайнер  Александр ,уровень  1 , балов  5\n",
            "дизайнер  Виктор ,уровень  2 , балов  7\n",
            "\n",
            "Аккредитация № 2\n",
            "дизайнер  Александр ,уровень  1 , балов  6\n",
            "дизайнер  Виктор ,уровень  2 , балов  8\n",
            "\n",
            "Аккредитация № 3\n",
            "дизайнер  Александр ,уровень  2 , балов  7\n",
            "дизайнер  Виктор ,уровень  2 , балов  9\n",
            "\n",
            "Аккредитация № 4\n",
            "дизайнер  Александр ,уровень  2 , балов  8\n",
            "дизайнер  Виктор ,уровень  2 , балов  10\n",
            "\n",
            "Аккредитация № 5\n",
            "дизайнер  Александр ,уровень  2 , балов  9\n",
            "дизайнер  Виктор ,уровень  2 , балов  11\n",
            "\n",
            "Аккредитация № 6\n",
            "дизайнер  Александр ,уровень  2 , балов  10\n",
            "дизайнер  Виктор ,уровень  2 , балов  12\n",
            "\n",
            "Аккредитация № 7\n",
            "дизайнер  Александр ,уровень  2 , балов  11\n",
            "дизайнер  Виктор ,уровень  2 , балов  13\n",
            "\n",
            "Аккредитация № 8\n",
            "дизайнер  Александр ,уровень  2 , балов  12\n",
            "дизайнер  Виктор ,уровень  3 , балов  14\n",
            "\n",
            "Аккредитация № 9\n",
            "дизайнер  Александр ,уровень  2 , балов  13\n",
            "дизайнер  Виктор ,уровень  3 , балов  15\n",
            "\n"
          ]
        }
      ]
    }
  ]
}